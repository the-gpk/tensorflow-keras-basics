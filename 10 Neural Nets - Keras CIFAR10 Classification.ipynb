{
 "cells": [
  {
   "cell_type": "markdown",
   "metadata": {},
   "source": [
    "# Imports"
   ]
  },
  {
   "cell_type": "code",
   "execution_count": 1,
   "metadata": {},
   "outputs": [],
   "source": [
    "from numpy.random import seed\n",
    "seed(888)\n",
    "import tensorflow\n"
   ]
  },
  {
   "cell_type": "code",
   "execution_count": 2,
   "metadata": {},
   "outputs": [
    {
     "name": "stderr",
     "output_type": "stream",
     "text": [
      "Using TensorFlow backend.\n"
     ]
    }
   ],
   "source": [
    "import numpy as np\n",
    "import tensorflow as tf\n",
    "import os\n",
    "import keras\n",
    "\n",
    "from keras.datasets import cifar10"
   ]
  },
  {
   "cell_type": "markdown",
   "metadata": {},
   "source": [
    "# Constants"
   ]
  },
  {
   "cell_type": "code",
   "execution_count": 62,
   "metadata": {},
   "outputs": [],
   "source": [
    "LABEL_NAMES=['Plane','Car','Bird','Cat','Deer','Dog','Frog','Horse','Ship','Truck']\n",
    "IMAGE_HEIGHT = 32\n",
    "IMAGE_WIDTH = 32\n",
    "IMAGE_PIXELS = IMAGE_HEIGHT*IMAGE_WIDTH\n",
    "COLOR_CHANNELS = 3\n",
    "TOTAL_INPUTS = IMAGE_PIXELS*COLOR_CHANNELS\n",
    "\n",
    "VALIDATION_SIZE = 10000\n",
    "SMALL_TRAIN_SIZE = 1000\n",
    "\n",
    "NR_CLASSES = 10"
   ]
  },
  {
   "cell_type": "markdown",
   "metadata": {},
   "source": [
    "# Get Data"
   ]
  },
  {
   "cell_type": "code",
   "execution_count": 4,
   "metadata": {},
   "outputs": [],
   "source": [
    "(x_train_all,y_train_all),(x_test,y_test) = cifar10.load_data()"
   ]
  },
  {
   "cell_type": "code",
   "execution_count": 5,
   "metadata": {},
   "outputs": [
    {
     "name": "stdout",
     "output_type": "stream",
     "text": [
      "/snap/jupyter/6/bin:/snap/jupyter/6/usr/sbin:/snap/jupyter/6/usr/bin:/snap/jupyter/6/sbin:/snap/jupyter/6/bin:/home/hp/snap/jupyter/common/bin:/usr/local/sbin:/usr/local/bin:/usr/sbin:/usr/bin:/sbin:/bin:/usr/games:/usr/local/games\r\n"
     ]
    }
   ],
   "source": [
    "!echo $PATH"
   ]
  },
  {
   "cell_type": "markdown",
   "metadata": {},
   "source": [
    "# Explore the data"
   ]
  },
  {
   "cell_type": "code",
   "execution_count": 6,
   "metadata": {},
   "outputs": [],
   "source": [
    "from IPython.display import display\n",
    "from keras.preprocessing.image import array_to_img\n",
    "\n",
    "import matplotlib.pyplot as plt\n",
    "\n",
    "%matplotlib inline"
   ]
  },
  {
   "cell_type": "code",
   "execution_count": 7,
   "metadata": {},
   "outputs": [
    {
     "data": {
      "text/plain": [
       "array([[[ 59,  62,  63],\n",
       "        [ 43,  46,  45],\n",
       "        [ 50,  48,  43],\n",
       "        ...,\n",
       "        [158, 132, 108],\n",
       "        [152, 125, 102],\n",
       "        [148, 124, 103]],\n",
       "\n",
       "       [[ 16,  20,  20],\n",
       "        [  0,   0,   0],\n",
       "        [ 18,   8,   0],\n",
       "        ...,\n",
       "        [123,  88,  55],\n",
       "        [119,  83,  50],\n",
       "        [122,  87,  57]],\n",
       "\n",
       "       [[ 25,  24,  21],\n",
       "        [ 16,   7,   0],\n",
       "        [ 49,  27,   8],\n",
       "        ...,\n",
       "        [118,  84,  50],\n",
       "        [120,  84,  50],\n",
       "        [109,  73,  42]],\n",
       "\n",
       "       ...,\n",
       "\n",
       "       [[208, 170,  96],\n",
       "        [201, 153,  34],\n",
       "        [198, 161,  26],\n",
       "        ...,\n",
       "        [160, 133,  70],\n",
       "        [ 56,  31,   7],\n",
       "        [ 53,  34,  20]],\n",
       "\n",
       "       [[180, 139,  96],\n",
       "        [173, 123,  42],\n",
       "        [186, 144,  30],\n",
       "        ...,\n",
       "        [184, 148,  94],\n",
       "        [ 97,  62,  34],\n",
       "        [ 83,  53,  34]],\n",
       "\n",
       "       [[177, 144, 116],\n",
       "        [168, 129,  94],\n",
       "        [179, 142,  87],\n",
       "        ...,\n",
       "        [216, 184, 140],\n",
       "        [151, 118,  84],\n",
       "        [123,  92,  72]]], dtype=uint8)"
      ]
     },
     "execution_count": 7,
     "metadata": {},
     "output_type": "execute_result"
    }
   ],
   "source": [
    "x_train_all[0]"
   ]
  },
  {
   "cell_type": "code",
   "execution_count": 8,
   "metadata": {},
   "outputs": [
    {
     "data": {
      "image/png": "[encoded data removed]",
      "text/plain": [
       "<PIL.Image.Image image mode=RGB size=32x32 at 0x7F9DF6A93C88>"
      ]
     },
     "metadata": {},
     "output_type": "display_data"
    }
   ],
   "source": [
    "pic = array_to_img(x_train_all[7])\n",
    "display(pic)"
   ]
  },
  {
   "cell_type": "code",
   "execution_count": 9,
   "metadata": {},
   "outputs": [
    {
     "data": {
      "text/plain": [
       "(50000, 1)"
      ]
     },
     "execution_count": 9,
     "metadata": {},
     "output_type": "execute_result"
    }
   ],
   "source": [
    "y_train_all.shape"
   ]
  },
  {
   "cell_type": "code",
   "execution_count": 10,
   "metadata": {},
   "outputs": [
    {
     "data": {
      "text/plain": [
       "7"
      ]
     },
     "execution_count": 10,
     "metadata": {},
     "output_type": "execute_result"
    }
   ],
   "source": [
    "y_train_all[7][0]"
   ]
  },
  {
   "cell_type": "code",
   "execution_count": 11,
   "metadata": {},
   "outputs": [
    {
     "data": {
      "text/plain": [
       "'Horse'"
      ]
     },
     "execution_count": 11,
     "metadata": {},
     "output_type": "execute_result"
    }
   ],
   "source": [
    "LABEL_NAMES[y_train_all[7][0]]"
   ]
  },
  {
   "cell_type": "markdown",
   "metadata": {},
   "source": [
    "## Another way of plotting image (using matplotlib)"
   ]
  },
  {
   "cell_type": "code",
   "execution_count": 12,
   "metadata": {},
   "outputs": [
    {
     "data": {
      "image/png": "[encoded data removed]",
      "text/plain": [
       "<Figure size 432x288 with 1 Axes>"
      ]
     },
     "metadata": {
      "needs_background": "light"
     },
     "output_type": "display_data"
    }
   ],
   "source": [
    "plt.imshow(x_train_all[4])\n",
    "plt.xlabel(LABEL_NAMES[y_train_all[4][0]],fontsize=15)\n",
    "plt.show()"
   ]
  },
  {
   "cell_type": "code",
   "execution_count": 13,
   "metadata": {},
   "outputs": [
    {
     "data": {
      "image/png": "[encoded data removed]",
      "text/plain": [
       "<Figure size 1080x360 with 1 Axes>"
      ]
     },
     "metadata": {},
     "output_type": "display_data"
    },
    {
     "data": {
      "image/png": "[encoded data removed]",
      "text/plain": [
       "<Figure size 432x288 with 1 Axes>"
      ]
     },
     "metadata": {},
     "output_type": "display_data"
    }
   ],
   "source": [
    "plt.figure(figsize=(15,5))\n",
    "\n",
    "for i in range(2):\n",
    "    plt.subplot(1,10,i+1)\n",
    "    plt.xticks([])\n",
    "    plt.yticks([])\n",
    "    plt.xlabel(LABEL_NAMES[y_train_all[i][0]],fontsize=15)\n",
    "    plt.imshow(x_train_all[i])"
   ]
  },
  {
   "cell_type": "code",
   "execution_count": 14,
   "metadata": {},
   "outputs": [
    {
     "data": {
      "text/plain": [
       "(32, 32, 3)"
      ]
     },
     "execution_count": 14,
     "metadata": {},
     "output_type": "execute_result"
    }
   ],
   "source": [
    "x_train_all[0].shape"
   ]
  },
  {
   "cell_type": "code",
   "execution_count": 15,
   "metadata": {},
   "outputs": [
    {
     "name": "stdout",
     "output_type": "stream",
     "text": [
      "Number of train images = 50000 \t| width = 32 \t| height=32 \t| channels=3\n"
     ]
    }
   ],
   "source": [
    "nr_images,x,y,c = x_train_all.shape\n",
    "print(f'Number of train images = {nr_images} \\t| width = {x} \\t| height={y} \\t| channels={c}')"
   ]
  },
  {
   "cell_type": "markdown",
   "metadata": {},
   "source": [
    "# Preprocess Data "
   ]
  },
  {
   "cell_type": "code",
   "execution_count": 16,
   "metadata": {},
   "outputs": [
    {
     "data": {
      "text/plain": [
       "numpy.uint8"
      ]
     },
     "execution_count": 16,
     "metadata": {},
     "output_type": "execute_result"
    }
   ],
   "source": [
    "type(x_train_all[0][0][0][0])"
   ]
  },
  {
   "cell_type": "code",
   "execution_count": 17,
   "metadata": {},
   "outputs": [],
   "source": [
    "x_train_all,x_test = x_train_all/255.0,x_test/255.0"
   ]
  },
  {
   "cell_type": "code",
   "execution_count": 18,
   "metadata": {},
   "outputs": [
    {
     "data": {
      "text/plain": [
       "numpy.float64"
      ]
     },
     "execution_count": 18,
     "metadata": {},
     "output_type": "execute_result"
    }
   ],
   "source": [
    "##Checking the image type after scaling down\n",
    "\n",
    "type(x_train_all[0][0][0][0]) ##we can see that int changed to float"
   ]
  },
  {
   "cell_type": "markdown",
   "metadata": {},
   "source": [
    "# Flatten"
   ]
  },
  {
   "cell_type": "code",
   "execution_count": 19,
   "metadata": {},
   "outputs": [],
   "source": [
    "x_train_all = x_train_all.reshape(x_train_all.shape[0],TOTAL_INPUTS)"
   ]
  },
  {
   "cell_type": "code",
   "execution_count": 20,
   "metadata": {},
   "outputs": [
    {
     "data": {
      "text/plain": [
       "(50000, 3072)"
      ]
     },
     "execution_count": 20,
     "metadata": {},
     "output_type": "execute_result"
    }
   ],
   "source": [
    "x_train_all.shape"
   ]
  },
  {
   "cell_type": "code",
   "execution_count": 21,
   "metadata": {},
   "outputs": [
    {
     "name": "stdout",
     "output_type": "stream",
     "text": [
      "Shape of x_test is (10000, 3072)\n"
     ]
    }
   ],
   "source": [
    "x_test = x_test.reshape(x_test.shape[0],TOTAL_INPUTS)\n",
    "print(f'Shape of x_test is {x_test.shape}')"
   ]
  },
  {
   "cell_type": "markdown",
   "metadata": {},
   "source": [
    "## Create Validation Dataset"
   ]
  },
  {
   "cell_type": "code",
   "execution_count": 22,
   "metadata": {},
   "outputs": [
    {
     "data": {
      "text/plain": [
       "(10000, 3072)"
      ]
     },
     "execution_count": 22,
     "metadata": {},
     "output_type": "execute_result"
    }
   ],
   "source": [
    "##taking the first 10000 values for validation dataset\n",
    "\n",
    "x_val=x_train_all[:VALIDATION_SIZE]\n",
    "y_val=y_train_all[:VALIDATION_SIZE]\n",
    "x_val.shape"
   ]
  },
  {
   "cell_type": "code",
   "execution_count": 23,
   "metadata": {},
   "outputs": [
    {
     "data": {
      "text/plain": [
       "(40000, 3072)"
      ]
     },
     "execution_count": 23,
     "metadata": {},
     "output_type": "execute_result"
    }
   ],
   "source": [
    "## Making the training data separate from validation data\n",
    "x_train = x_train_all[VALIDATION_SIZE:]\n",
    "y_train = y_train_all[VALIDATION_SIZE:]\n",
    "x_train.shape"
   ]
  },
  {
   "cell_type": "markdown",
   "metadata": {},
   "source": [
    "## Create a smaller dataset (for illustration)"
   ]
  },
  {
   "cell_type": "code",
   "execution_count": 24,
   "metadata": {},
   "outputs": [],
   "source": [
    "x_train_xs=x_train[:SMALL_TRAIN_SIZE]\n",
    "y_train_xs = y_train[:SMALL_TRAIN_SIZE]"
   ]
  },
  {
   "cell_type": "markdown",
   "metadata": {},
   "source": [
    "# Define the neural network using keras"
   ]
  },
  {
   "cell_type": "code",
   "execution_count": 25,
   "metadata": {},
   "outputs": [],
   "source": [
    "from keras.models import Sequential\n",
    "from keras.layers import Dense,Activation,Dropout"
   ]
  },
  {
   "cell_type": "code",
   "execution_count": 26,
   "metadata": {},
   "outputs": [],
   "source": [
    "model_1 = Sequential([\n",
    "    Dense(units=128,input_dim = TOTAL_INPUTS,activation='relu',name='m1_hidden1'),\n",
    "    Dense(units=64, activation='relu',name='m1_hidden2'),\n",
    "    Dense(16, activation = 'relu',name='m1_hidden3'),\n",
    "    Dense(10,activation = 'softmax',name='m1_output')\n",
    "])\n",
    "\n",
    "model_1.compile(optimizer ='adam',loss='sparse_categorical_crossentropy',metrics=['accuracy'])"
   ]
  },
  {
   "cell_type": "code",
   "execution_count": 27,
   "metadata": {},
   "outputs": [],
   "source": [
    "model_2 = Sequential()\n",
    "\n",
    "model_2.add(Dropout(0.2,seed=42,input_shape=(TOTAL_INPUTS,)))\n",
    "model_2.add(Dense(128,activation='relu',name='m2_hidden1'))\n",
    "model_2.add(Dense(64,activation='relu',name='m2_hidden2'))\n",
    "model_2.add(Dense(16,activation='relu',name='m2_hidden3'))\n",
    "model_2.add(Dense(10,activation='softmax',name='m2_output'))\n",
    "                  \n",
    "model_2.compile(optimizer ='adam',loss='sparse_categorical_crossentropy',metrics=['accuracy'])"
   ]
  },
  {
   "cell_type": "code",
   "execution_count": 28,
   "metadata": {},
   "outputs": [],
   "source": [
    "model_3 = Sequential()\n",
    "\n",
    "model_3.add(Dropout(0.2,seed=42,input_shape=(TOTAL_INPUTS,)))\n",
    "model_3.add(Dense(128,activation='relu',name='m2_hidden1'))\n",
    "model_3.add(Dropout(0.25,seed=42))\n",
    "model_3.add(Dense(64,activation='relu',name='m2_hidden2'))\n",
    "model_3.add(Dense(16,activation='relu',name='m2_hidden3'))\n",
    "model_3.add(Dense(10,activation='softmax',name='m2_output'))\n",
    "                  \n",
    "model_3.compile(optimizer ='adam',loss='sparse_categorical_crossentropy',metrics=['accuracy'])"
   ]
  },
  {
   "cell_type": "code",
   "execution_count": 29,
   "metadata": {},
   "outputs": [
    {
     "data": {
      "text/plain": [
       "keras.engine.sequential.Sequential"
      ]
     },
     "execution_count": 29,
     "metadata": {},
     "output_type": "execute_result"
    }
   ],
   "source": [
    "type(model_1)"
   ]
  },
  {
   "cell_type": "code",
   "execution_count": 30,
   "metadata": {},
   "outputs": [
    {
     "name": "stdout",
     "output_type": "stream",
     "text": [
      "Model: \"sequential_1\"\n",
      "_________________________________________________________________\n",
      "Layer (type)                 Output Shape              Param #   \n",
      "=================================================================\n",
      "m1_hidden1 (Dense)           (None, 128)               393344    \n",
      "_________________________________________________________________\n",
      "m1_hidden2 (Dense)           (None, 64)                8256      \n",
      "_________________________________________________________________\n",
      "m1_hidden3 (Dense)           (None, 16)                1040      \n",
      "_________________________________________________________________\n",
      "m1_output (Dense)            (None, 10)                170       \n",
      "=================================================================\n",
      "Total params: 402,810\n",
      "Trainable params: 402,810\n",
      "Non-trainable params: 0\n",
      "_________________________________________________________________\n"
     ]
    }
   ],
   "source": [
    "model_1.summary()"
   ]
  },
  {
   "cell_type": "markdown",
   "metadata": {},
   "source": [
    "# Tensorboard (visualise learning)"
   ]
  },
  {
   "cell_type": "code",
   "execution_count": 31,
   "metadata": {},
   "outputs": [],
   "source": [
    "from keras.callbacks import TensorBoard\n",
    "from time import strftime\n",
    "\n",
    "LOG_DIR='tensorboard_cifar_logs/'"
   ]
  },
  {
   "cell_type": "code",
   "execution_count": 32,
   "metadata": {},
   "outputs": [],
   "source": [
    "def get_tensorboard(model_name):\n",
    "\n",
    "    folder_name = f'{model_name} at {strftime(\"%H %M\")}'\n",
    "    print(folder_name)\n",
    "\n",
    "    dir_paths = os.path.join(LOG_DIR,folder_name)\n",
    "\n",
    "    try:\n",
    "        os.makedirs(dir_paths)\n",
    "    except OSError as err:\n",
    "        print(err.strerror)\n",
    "    else:\n",
    "        print(\"Successfully created directory\")\n",
    "\n",
    "    return TensorBoard(log_dir=dir_paths)"
   ]
  },
  {
   "cell_type": "markdown",
   "metadata": {},
   "source": [
    "# Fit the model"
   ]
  },
  {
   "cell_type": "code",
   "execution_count": 33,
   "metadata": {},
   "outputs": [],
   "source": [
    "samples_per_batch = 1000"
   ]
  },
  {
   "cell_type": "code",
   "execution_count": 34,
   "metadata": {},
   "outputs": [
    {
     "name": "stdout",
     "output_type": "stream",
     "text": [
      "Model 1 XL at 10 40\n",
      "Successfully created directory\n",
      "Train on 40000 samples, validate on 10000 samples\n",
      "Epoch 1/100\n",
      " 7000/40000 [====>.........................] - ETA: 9s - loss: 2.3794 - accuracy: 0.0967 "
     ]
    },
    {
     "name": "stderr",
     "output_type": "stream",
     "text": [
      "/home/hp/snap/jupyter/common/lib/python3.7/site-packages/keras/callbacks/callbacks.py:95: RuntimeWarning: Method (on_train_batch_end) is slow compared to the batch update (0.103055). Check your callbacks.\n",
      "  % (hook_name, delta_t_median), RuntimeWarning)\n"
     ]
    },
    {
     "name": "stdout",
     "output_type": "stream",
     "text": [
      "40000/40000 [==============================] - 4s 91us/step - loss: 2.2785 - accuracy: 0.1339 - val_loss: 2.2181 - val_accuracy: 0.1772\n",
      "Epoch 2/100\n",
      "40000/40000 [==============================] - 2s 45us/step - loss: 2.1575 - accuracy: 0.2219 - val_loss: 2.1004 - val_accuracy: 0.2219\n",
      "Epoch 3/100\n",
      "40000/40000 [==============================] - 2s 44us/step - loss: 2.0580 - accuracy: 0.2601 - val_loss: 2.0297 - val_accuracy: 0.2718\n",
      "Epoch 4/100\n",
      "40000/40000 [==============================] - 2s 44us/step - loss: 1.9750 - accuracy: 0.2856 - val_loss: 1.9310 - val_accuracy: 0.3047\n",
      "Epoch 5/100\n",
      "40000/40000 [==============================] - 2s 45us/step - loss: 1.8982 - accuracy: 0.3124 - val_loss: 1.8547 - val_accuracy: 0.3253\n",
      "Epoch 6/100\n",
      "40000/40000 [==============================] - 2s 44us/step - loss: 1.8316 - accuracy: 0.3438 - val_loss: 1.7873 - val_accuracy: 0.3546\n",
      "Epoch 7/100\n",
      "40000/40000 [==============================] - 2s 49us/step - loss: 1.7710 - accuracy: 0.3641 - val_loss: 1.7522 - val_accuracy: 0.3721\n",
      "Epoch 8/100\n",
      "40000/40000 [==============================] - 2s 55us/step - loss: 1.7346 - accuracy: 0.3792 - val_loss: 1.7148 - val_accuracy: 0.3836\n",
      "Epoch 9/100\n",
      "40000/40000 [==============================] - 2s 47us/step - loss: 1.7122 - accuracy: 0.3888 - val_loss: 1.7335 - val_accuracy: 0.3784\n",
      "Epoch 10/100\n",
      "40000/40000 [==============================] - 2s 45us/step - loss: 1.6920 - accuracy: 0.3957 - val_loss: 1.6763 - val_accuracy: 0.3929\n",
      "Epoch 11/100\n",
      "40000/40000 [==============================] - 2s 46us/step - loss: 1.6635 - accuracy: 0.4049 - val_loss: 1.6652 - val_accuracy: 0.3979\n",
      "Epoch 12/100\n",
      "40000/40000 [==============================] - 2s 45us/step - loss: 1.6407 - accuracy: 0.4141 - val_loss: 1.6400 - val_accuracy: 0.4092\n",
      "Epoch 13/100\n",
      "40000/40000 [==============================] - 2s 45us/step - loss: 1.6276 - accuracy: 0.4194 - val_loss: 1.6402 - val_accuracy: 0.4136\n",
      "Epoch 14/100\n",
      "40000/40000 [==============================] - 2s 45us/step - loss: 1.6134 - accuracy: 0.4239 - val_loss: 1.6228 - val_accuracy: 0.4181\n",
      "Epoch 15/100\n",
      "40000/40000 [==============================] - 2s 48us/step - loss: 1.6023 - accuracy: 0.4268 - val_loss: 1.6219 - val_accuracy: 0.4217\n",
      "Epoch 16/100\n",
      "40000/40000 [==============================] - 2s 50us/step - loss: 1.5913 - accuracy: 0.4299 - val_loss: 1.5913 - val_accuracy: 0.4229\n",
      "Epoch 17/100\n",
      "40000/40000 [==============================] - 2s 45us/step - loss: 1.5754 - accuracy: 0.4378 - val_loss: 1.6077 - val_accuracy: 0.4205\n",
      "Epoch 18/100\n",
      "40000/40000 [==============================] - 2s 45us/step - loss: 1.5564 - accuracy: 0.4438 - val_loss: 1.5855 - val_accuracy: 0.4283\n",
      "Epoch 19/100\n",
      "40000/40000 [==============================] - 2s 45us/step - loss: 1.5529 - accuracy: 0.4464 - val_loss: 1.5887 - val_accuracy: 0.4244\n",
      "Epoch 20/100\n",
      "40000/40000 [==============================] - 2s 45us/step - loss: 1.5368 - accuracy: 0.4504 - val_loss: 1.5625 - val_accuracy: 0.4362\n",
      "Epoch 21/100\n",
      "40000/40000 [==============================] - 2s 45us/step - loss: 1.5190 - accuracy: 0.4570 - val_loss: 1.5513 - val_accuracy: 0.4404\n",
      "Epoch 22/100\n",
      "40000/40000 [==============================] - 2s 45us/step - loss: 1.5184 - accuracy: 0.4563 - val_loss: 1.5569 - val_accuracy: 0.4381\n",
      "Epoch 23/100\n",
      "40000/40000 [==============================] - 2s 45us/step - loss: 1.5052 - accuracy: 0.4618 - val_loss: 1.5490 - val_accuracy: 0.4461\n",
      "Epoch 24/100\n",
      "40000/40000 [==============================] - 2s 45us/step - loss: 1.5086 - accuracy: 0.4629 - val_loss: 1.5643 - val_accuracy: 0.4445\n",
      "Epoch 25/100\n",
      "40000/40000 [==============================] - 2s 45us/step - loss: 1.4926 - accuracy: 0.4667 - val_loss: 1.5503 - val_accuracy: 0.4437\n",
      "Epoch 26/100\n",
      "40000/40000 [==============================] - 2s 45us/step - loss: 1.4801 - accuracy: 0.4719 - val_loss: 1.5232 - val_accuracy: 0.4535\n",
      "Epoch 27/100\n",
      "40000/40000 [==============================] - 2s 50us/step - loss: 1.4783 - accuracy: 0.4719 - val_loss: 1.5164 - val_accuracy: 0.4543\n",
      "Epoch 28/100\n",
      "40000/40000 [==============================] - 2s 44us/step - loss: 1.4635 - accuracy: 0.4774 - val_loss: 1.5214 - val_accuracy: 0.4503\n",
      "Epoch 29/100\n",
      "40000/40000 [==============================] - 2s 47us/step - loss: 1.4562 - accuracy: 0.4795 - val_loss: 1.5132 - val_accuracy: 0.4569\n",
      "Epoch 30/100\n",
      "40000/40000 [==============================] - 2s 46us/step - loss: 1.4505 - accuracy: 0.4811 - val_loss: 1.5109 - val_accuracy: 0.4585\n",
      "Epoch 31/100\n",
      "40000/40000 [==============================] - 2s 45us/step - loss: 1.4380 - accuracy: 0.4868 - val_loss: 1.5053 - val_accuracy: 0.4580\n",
      "Epoch 32/100\n",
      "40000/40000 [==============================] - 2s 45us/step - loss: 1.4351 - accuracy: 0.4871 - val_loss: 1.4944 - val_accuracy: 0.4640\n",
      "Epoch 33/100\n",
      "40000/40000 [==============================] - 2s 44us/step - loss: 1.4282 - accuracy: 0.4880 - val_loss: 1.4985 - val_accuracy: 0.4609\n",
      "Epoch 34/100\n",
      "40000/40000 [==============================] - 2s 49us/step - loss: 1.4259 - accuracy: 0.4912 - val_loss: 1.4910 - val_accuracy: 0.4698\n",
      "Epoch 35/100\n",
      "40000/40000 [==============================] - 2s 45us/step - loss: 1.4148 - accuracy: 0.4940 - val_loss: 1.4820 - val_accuracy: 0.4671\n",
      "Epoch 36/100\n",
      "40000/40000 [==============================] - 2s 52us/step - loss: 1.4039 - accuracy: 0.4990 - val_loss: 1.4967 - val_accuracy: 0.4652\n",
      "Epoch 37/100\n",
      "40000/40000 [==============================] - 2s 45us/step - loss: 1.4022 - accuracy: 0.4994 - val_loss: 1.4953 - val_accuracy: 0.4694\n",
      "Epoch 38/100\n",
      "40000/40000 [==============================] - 2s 52us/step - loss: 1.4054 - accuracy: 0.4981 - val_loss: 1.4910 - val_accuracy: 0.4670\n",
      "Epoch 39/100\n",
      "40000/40000 [==============================] - 2s 51us/step - loss: 1.3941 - accuracy: 0.5009 - val_loss: 1.4899 - val_accuracy: 0.4703\n",
      "Epoch 40/100\n",
      "40000/40000 [==============================] - 2s 49us/step - loss: 1.3849 - accuracy: 0.5057 - val_loss: 1.4813 - val_accuracy: 0.4698\n",
      "Epoch 41/100\n",
      "40000/40000 [==============================] - 2s 52us/step - loss: 1.3867 - accuracy: 0.5023 - val_loss: 1.4786 - val_accuracy: 0.4695\n",
      "Epoch 42/100\n",
      "40000/40000 [==============================] - 2s 48us/step - loss: 1.3734 - accuracy: 0.5101 - val_loss: 1.4686 - val_accuracy: 0.4752\n",
      "Epoch 43/100\n",
      "40000/40000 [==============================] - 2s 48us/step - loss: 1.3703 - accuracy: 0.5099 - val_loss: 1.4555 - val_accuracy: 0.4767\n",
      "Epoch 44/100\n",
      "40000/40000 [==============================] - 2s 46us/step - loss: 1.3669 - accuracy: 0.5118 - val_loss: 1.4770 - val_accuracy: 0.4719\n",
      "Epoch 45/100\n",
      "40000/40000 [==============================] - 2s 46us/step - loss: 1.3644 - accuracy: 0.5095 - val_loss: 1.4669 - val_accuracy: 0.4757\n",
      "Epoch 46/100\n",
      "40000/40000 [==============================] - 2s 48us/step - loss: 1.3719 - accuracy: 0.5082 - val_loss: 1.4619 - val_accuracy: 0.4790\n",
      "Epoch 47/100\n",
      "40000/40000 [==============================] - 2s 46us/step - loss: 1.3572 - accuracy: 0.5122 - val_loss: 1.4620 - val_accuracy: 0.4744\n",
      "Epoch 48/100\n",
      "40000/40000 [==============================] - 2s 47us/step - loss: 1.3573 - accuracy: 0.5130 - val_loss: 1.4943 - val_accuracy: 0.4660\n",
      "Epoch 49/100\n",
      "40000/40000 [==============================] - 2s 47us/step - loss: 1.3501 - accuracy: 0.5151 - val_loss: 1.4580 - val_accuracy: 0.4810\n",
      "Epoch 50/100\n",
      "40000/40000 [==============================] - 2s 53us/step - loss: 1.3360 - accuracy: 0.5200 - val_loss: 1.4676 - val_accuracy: 0.4788\n",
      "Epoch 51/100\n",
      "40000/40000 [==============================] - 2s 47us/step - loss: 1.3408 - accuracy: 0.5182 - val_loss: 1.4528 - val_accuracy: 0.4814\n",
      "Epoch 52/100\n",
      "40000/40000 [==============================] - 2s 50us/step - loss: 1.3380 - accuracy: 0.5181 - val_loss: 1.4662 - val_accuracy: 0.4785\n",
      "Epoch 53/100\n",
      "40000/40000 [==============================] - 2s 46us/step - loss: 1.3311 - accuracy: 0.5229 - val_loss: 1.4747 - val_accuracy: 0.4737\n",
      "Epoch 54/100\n",
      "40000/40000 [==============================] - 2s 47us/step - loss: 1.3324 - accuracy: 0.5226 - val_loss: 1.4685 - val_accuracy: 0.4781\n",
      "Epoch 55/100\n",
      "40000/40000 [==============================] - 2s 47us/step - loss: 1.3267 - accuracy: 0.5259 - val_loss: 1.4438 - val_accuracy: 0.4867\n",
      "Epoch 56/100\n",
      "40000/40000 [==============================] - 2s 44us/step - loss: 1.3300 - accuracy: 0.5218 - val_loss: 1.4850 - val_accuracy: 0.4704\n",
      "Epoch 57/100\n",
      "40000/40000 [==============================] - 2s 44us/step - loss: 1.3143 - accuracy: 0.5267 - val_loss: 1.4591 - val_accuracy: 0.4816\n",
      "Epoch 58/100\n",
      "40000/40000 [==============================] - 2s 44us/step - loss: 1.3118 - accuracy: 0.5296 - val_loss: 1.4512 - val_accuracy: 0.4863\n",
      "Epoch 59/100\n",
      "40000/40000 [==============================] - 2s 44us/step - loss: 1.3075 - accuracy: 0.5308 - val_loss: 1.4428 - val_accuracy: 0.4849\n",
      "Epoch 60/100\n",
      "40000/40000 [==============================] - 2s 44us/step - loss: 1.3028 - accuracy: 0.5336 - val_loss: 1.4764 - val_accuracy: 0.4762\n",
      "Epoch 61/100\n",
      "40000/40000 [==============================] - 2s 44us/step - loss: 1.3143 - accuracy: 0.5286 - val_loss: 1.4627 - val_accuracy: 0.4814\n",
      "Epoch 62/100\n",
      "40000/40000 [==============================] - 2s 44us/step - loss: 1.3052 - accuracy: 0.5323 - val_loss: 1.4607 - val_accuracy: 0.4824\n",
      "Epoch 63/100\n",
      "40000/40000 [==============================] - 2s 44us/step - loss: 1.2920 - accuracy: 0.5369 - val_loss: 1.4677 - val_accuracy: 0.4748\n",
      "Epoch 64/100\n",
      "40000/40000 [==============================] - 2s 44us/step - loss: 1.2847 - accuracy: 0.5383 - val_loss: 1.4491 - val_accuracy: 0.4854\n",
      "Epoch 65/100\n",
      "40000/40000 [==============================] - 2s 44us/step - loss: 1.2867 - accuracy: 0.5363 - val_loss: 1.4254 - val_accuracy: 0.4909\n",
      "Epoch 66/100\n",
      "40000/40000 [==============================] - 2s 44us/step - loss: 1.2834 - accuracy: 0.5397 - val_loss: 1.4385 - val_accuracy: 0.4878\n",
      "Epoch 67/100\n",
      "40000/40000 [==============================] - 2s 44us/step - loss: 1.2772 - accuracy: 0.5431 - val_loss: 1.4406 - val_accuracy: 0.4899\n",
      "Epoch 68/100\n",
      "40000/40000 [==============================] - 2s 44us/step - loss: 1.2830 - accuracy: 0.5397 - val_loss: 1.4439 - val_accuracy: 0.4874\n",
      "Epoch 69/100\n",
      "40000/40000 [==============================] - 2s 44us/step - loss: 1.2818 - accuracy: 0.5390 - val_loss: 1.4491 - val_accuracy: 0.4882\n",
      "Epoch 70/100\n",
      "40000/40000 [==============================] - 2s 44us/step - loss: 1.2768 - accuracy: 0.5420 - val_loss: 1.4299 - val_accuracy: 0.4879\n",
      "Epoch 71/100\n",
      "40000/40000 [==============================] - 2s 44us/step - loss: 1.2719 - accuracy: 0.5432 - val_loss: 1.4650 - val_accuracy: 0.4828\n",
      "Epoch 72/100\n",
      "40000/40000 [==============================] - 2s 45us/step - loss: 1.2761 - accuracy: 0.5419 - val_loss: 1.4964 - val_accuracy: 0.4744\n",
      "Epoch 73/100\n",
      "40000/40000 [==============================] - 2s 44us/step - loss: 1.2616 - accuracy: 0.5464 - val_loss: 1.4497 - val_accuracy: 0.4856\n",
      "Epoch 74/100\n",
      "40000/40000 [==============================] - 2s 45us/step - loss: 1.2589 - accuracy: 0.5473 - val_loss: 1.4446 - val_accuracy: 0.4899\n",
      "Epoch 75/100\n",
      "40000/40000 [==============================] - 2s 44us/step - loss: 1.2532 - accuracy: 0.5495 - val_loss: 1.4312 - val_accuracy: 0.4930\n",
      "Epoch 76/100\n",
      "40000/40000 [==============================] - 2s 44us/step - loss: 1.2540 - accuracy: 0.5511 - val_loss: 1.4492 - val_accuracy: 0.4888\n",
      "Epoch 77/100\n",
      "40000/40000 [==============================] - 2s 44us/step - loss: 1.2629 - accuracy: 0.5473 - val_loss: 1.4655 - val_accuracy: 0.4830\n",
      "Epoch 78/100\n",
      "40000/40000 [==============================] - 2s 43us/step - loss: 1.2541 - accuracy: 0.5503 - val_loss: 1.4308 - val_accuracy: 0.4931\n",
      "Epoch 79/100\n",
      "40000/40000 [==============================] - 2s 44us/step - loss: 1.2515 - accuracy: 0.5522 - val_loss: 1.4385 - val_accuracy: 0.4920\n",
      "Epoch 80/100\n",
      "40000/40000 [==============================] - 2s 44us/step - loss: 1.2390 - accuracy: 0.5544 - val_loss: 1.4733 - val_accuracy: 0.4805\n",
      "Epoch 81/100\n",
      "40000/40000 [==============================] - 2s 44us/step - loss: 1.2458 - accuracy: 0.5548 - val_loss: 1.4410 - val_accuracy: 0.4862\n",
      "Epoch 82/100\n",
      "40000/40000 [==============================] - 2s 44us/step - loss: 1.2331 - accuracy: 0.5562 - val_loss: 1.4479 - val_accuracy: 0.4870\n",
      "Epoch 83/100\n",
      "40000/40000 [==============================] - 2s 44us/step - loss: 1.2298 - accuracy: 0.5602 - val_loss: 1.4417 - val_accuracy: 0.4892\n",
      "Epoch 84/100\n",
      "40000/40000 [==============================] - 2s 44us/step - loss: 1.2376 - accuracy: 0.5584 - val_loss: 1.4443 - val_accuracy: 0.4937\n",
      "Epoch 85/100\n",
      "40000/40000 [==============================] - 2s 44us/step - loss: 1.2319 - accuracy: 0.5595 - val_loss: 1.4362 - val_accuracy: 0.4953\n",
      "Epoch 86/100\n",
      "40000/40000 [==============================] - 2s 44us/step - loss: 1.2246 - accuracy: 0.5609 - val_loss: 1.4427 - val_accuracy: 0.4970\n",
      "Epoch 87/100\n",
      "40000/40000 [==============================] - 2s 44us/step - loss: 1.2140 - accuracy: 0.5645 - val_loss: 1.4386 - val_accuracy: 0.4920\n",
      "Epoch 88/100\n",
      "40000/40000 [==============================] - 2s 44us/step - loss: 1.2220 - accuracy: 0.5597 - val_loss: 1.4537 - val_accuracy: 0.4865\n",
      "Epoch 89/100\n",
      "40000/40000 [==============================] - 2s 44us/step - loss: 1.2211 - accuracy: 0.5615 - val_loss: 1.4546 - val_accuracy: 0.4849\n",
      "Epoch 90/100\n",
      "40000/40000 [==============================] - 2s 44us/step - loss: 1.2131 - accuracy: 0.5662 - val_loss: 1.4394 - val_accuracy: 0.4959\n",
      "Epoch 91/100\n",
      "40000/40000 [==============================] - 2s 44us/step - loss: 1.2081 - accuracy: 0.5652 - val_loss: 1.4676 - val_accuracy: 0.4862\n",
      "Epoch 92/100\n",
      "40000/40000 [==============================] - 2s 44us/step - loss: 1.2198 - accuracy: 0.5635 - val_loss: 1.4431 - val_accuracy: 0.4902\n",
      "Epoch 93/100\n",
      "40000/40000 [==============================] - 2s 44us/step - loss: 1.2013 - accuracy: 0.5687 - val_loss: 1.4361 - val_accuracy: 0.4938\n",
      "Epoch 94/100\n",
      "40000/40000 [==============================] - 2s 44us/step - loss: 1.2054 - accuracy: 0.5664 - val_loss: 1.4369 - val_accuracy: 0.4992\n",
      "Epoch 95/100\n",
      "40000/40000 [==============================] - 2s 44us/step - loss: 1.1967 - accuracy: 0.5707 - val_loss: 1.4564 - val_accuracy: 0.4935\n",
      "Epoch 96/100\n",
      "40000/40000 [==============================] - 2s 44us/step - loss: 1.2046 - accuracy: 0.5684 - val_loss: 1.4665 - val_accuracy: 0.4871\n",
      "Epoch 97/100\n",
      "40000/40000 [==============================] - 2s 44us/step - loss: 1.2039 - accuracy: 0.5686 - val_loss: 1.4781 - val_accuracy: 0.4827\n",
      "Epoch 98/100\n",
      "40000/40000 [==============================] - 2s 44us/step - loss: 1.1976 - accuracy: 0.5703 - val_loss: 1.4469 - val_accuracy: 0.4932\n",
      "Epoch 99/100\n",
      "40000/40000 [==============================] - 2s 44us/step - loss: 1.1903 - accuracy: 0.5728 - val_loss: 1.4456 - val_accuracy: 0.4916\n",
      "Epoch 100/100\n",
      "40000/40000 [==============================] - 2s 52us/step - loss: 1.1857 - accuracy: 0.5768 - val_loss: 1.4818 - val_accuracy: 0.4872\n"
     ]
    },
    {
     "data": {
      "text/plain": [
       "<keras.callbacks.callbacks.History at 0x7f9de45ceb00>"
      ]
     },
     "execution_count": 34,
     "metadata": {},
     "output_type": "execute_result"
    }
   ],
   "source": [
    "#%%time              ##to know how much time is taken for execution of the below line\n",
    "nr_epochs = 100\n",
    "model_1.fit(x_train,y_train,batch_size = samples_per_batch,epochs=nr_epochs,\n",
    "            callbacks=[get_tensorboard('Model 1 XL')],validation_data=(x_val,y_val))"
   ]
  },
  {
   "cell_type": "code",
   "execution_count": 35,
   "metadata": {},
   "outputs": [
    {
     "name": "stdout",
     "output_type": "stream",
     "text": [
      "Model 2 XL at 10 43\n",
      "Successfully created directory\n",
      "Train on 40000 samples, validate on 10000 samples\n",
      "Epoch 1/100\n",
      "40000/40000 [==============================] - 3s 73us/step - loss: 2.2549 - accuracy: 0.1616 - val_loss: 2.1981 - val_accuracy: 0.1797\n",
      "Epoch 2/100\n",
      "40000/40000 [==============================] - 3s 73us/step - loss: 2.1781 - accuracy: 0.1875 - val_loss: 2.1467 - val_accuracy: 0.2004\n",
      "Epoch 3/100\n",
      "40000/40000 [==============================] - 3s 69us/step - loss: 2.1267 - accuracy: 0.2060 - val_loss: 2.0870 - val_accuracy: 0.2206\n",
      "Epoch 4/100\n",
      "40000/40000 [==============================] - 3s 78us/step - loss: 2.0655 - accuracy: 0.2338 - val_loss: 2.0251 - val_accuracy: 0.2367\n",
      "Epoch 5/100\n",
      "40000/40000 [==============================] - 3s 69us/step - loss: 2.0168 - accuracy: 0.2492 - val_loss: 1.9775 - val_accuracy: 0.2681\n",
      "Epoch 6/100\n",
      "40000/40000 [==============================] - 3s 64us/step - loss: 1.9703 - accuracy: 0.2669 - val_loss: 1.9419 - val_accuracy: 0.2669\n",
      "Epoch 7/100\n",
      "40000/40000 [==============================] - 3s 70us/step - loss: 1.9374 - accuracy: 0.2806 - val_loss: 1.9200 - val_accuracy: 0.2881\n",
      "Epoch 8/100\n",
      "40000/40000 [==============================] - 4s 100us/step - loss: 1.8951 - accuracy: 0.3000 - val_loss: 1.8699 - val_accuracy: 0.3204\n",
      "Epoch 9/100\n",
      "40000/40000 [==============================] - 4s 88us/step - loss: 1.8555 - accuracy: 0.3253 - val_loss: 1.8227 - val_accuracy: 0.3361\n",
      "Epoch 10/100\n",
      "40000/40000 [==============================] - 3s 66us/step - loss: 1.8304 - accuracy: 0.3340 - val_loss: 1.7882 - val_accuracy: 0.3484\n",
      "Epoch 11/100\n",
      "40000/40000 [==============================] - 3s 65us/step - loss: 1.7940 - accuracy: 0.3473 - val_loss: 1.7726 - val_accuracy: 0.3506\n",
      "Epoch 12/100\n",
      "40000/40000 [==============================] - 3s 66us/step - loss: 1.7746 - accuracy: 0.3559 - val_loss: 1.7532 - val_accuracy: 0.3637\n",
      "Epoch 13/100\n",
      "40000/40000 [==============================] - 3s 69us/step - loss: 1.7539 - accuracy: 0.3660 - val_loss: 1.7425 - val_accuracy: 0.3636\n",
      "Epoch 14/100\n",
      "40000/40000 [==============================] - 2s 60us/step - loss: 1.7338 - accuracy: 0.3741 - val_loss: 1.7345 - val_accuracy: 0.3681\n",
      "Epoch 15/100\n",
      "40000/40000 [==============================] - 2s 59us/step - loss: 1.7171 - accuracy: 0.3791 - val_loss: 1.6941 - val_accuracy: 0.3870\n",
      "Epoch 16/100\n",
      "40000/40000 [==============================] - 3s 64us/step - loss: 1.7070 - accuracy: 0.3846 - val_loss: 1.7067 - val_accuracy: 0.3815\n",
      "Epoch 17/100\n",
      "40000/40000 [==============================] - 3s 68us/step - loss: 1.6890 - accuracy: 0.3926 - val_loss: 1.6660 - val_accuracy: 0.4010\n",
      "Epoch 18/100\n",
      "40000/40000 [==============================] - 2s 62us/step - loss: 1.6826 - accuracy: 0.3949 - val_loss: 1.6949 - val_accuracy: 0.3881\n",
      "Epoch 19/100\n",
      "40000/40000 [==============================] - 3s 70us/step - loss: 1.6571 - accuracy: 0.4029 - val_loss: 1.6294 - val_accuracy: 0.4133\n",
      "Epoch 20/100\n",
      "40000/40000 [==============================] - 2s 62us/step - loss: 1.6371 - accuracy: 0.4101 - val_loss: 1.6150 - val_accuracy: 0.4127\n",
      "Epoch 21/100\n",
      "40000/40000 [==============================] - 2s 62us/step - loss: 1.6272 - accuracy: 0.4141 - val_loss: 1.6125 - val_accuracy: 0.4123\n",
      "Epoch 22/100\n",
      "40000/40000 [==============================] - 2s 61us/step - loss: 1.6254 - accuracy: 0.4148 - val_loss: 1.6065 - val_accuracy: 0.4174\n",
      "Epoch 23/100\n",
      "40000/40000 [==============================] - 2s 62us/step - loss: 1.6058 - accuracy: 0.4218 - val_loss: 1.6032 - val_accuracy: 0.4191\n",
      "Epoch 24/100\n",
      "40000/40000 [==============================] - 2s 60us/step - loss: 1.6031 - accuracy: 0.4218 - val_loss: 1.5834 - val_accuracy: 0.4259\n",
      "Epoch 25/100\n",
      "40000/40000 [==============================] - 3s 67us/step - loss: 1.5898 - accuracy: 0.4283 - val_loss: 1.6151 - val_accuracy: 0.4167\n",
      "Epoch 26/100\n",
      "40000/40000 [==============================] - 3s 65us/step - loss: 1.5859 - accuracy: 0.4309 - val_loss: 1.5724 - val_accuracy: 0.4300\n",
      "Epoch 27/100\n",
      "40000/40000 [==============================] - 2s 60us/step - loss: 1.5860 - accuracy: 0.4311 - val_loss: 1.5661 - val_accuracy: 0.4356\n",
      "Epoch 28/100\n",
      "40000/40000 [==============================] - 3s 67us/step - loss: 1.5740 - accuracy: 0.4331 - val_loss: 1.5676 - val_accuracy: 0.4326\n",
      "Epoch 29/100\n",
      "40000/40000 [==============================] - 2s 61us/step - loss: 1.5700 - accuracy: 0.4366 - val_loss: 1.5584 - val_accuracy: 0.4387\n",
      "Epoch 30/100\n",
      "40000/40000 [==============================] - 2s 59us/step - loss: 1.5523 - accuracy: 0.4388 - val_loss: 1.5571 - val_accuracy: 0.4414\n",
      "Epoch 31/100\n",
      "40000/40000 [==============================] - 2s 59us/step - loss: 1.5505 - accuracy: 0.4406 - val_loss: 1.5531 - val_accuracy: 0.4401\n",
      "Epoch 32/100\n",
      "40000/40000 [==============================] - 2s 59us/step - loss: 1.5430 - accuracy: 0.4451 - val_loss: 1.5515 - val_accuracy: 0.4380\n",
      "Epoch 33/100\n",
      "40000/40000 [==============================] - 2s 59us/step - loss: 1.5443 - accuracy: 0.4466 - val_loss: 1.5466 - val_accuracy: 0.4328\n",
      "Epoch 34/100\n",
      "40000/40000 [==============================] - 2s 58us/step - loss: 1.5346 - accuracy: 0.4469 - val_loss: 1.5414 - val_accuracy: 0.4464\n",
      "Epoch 35/100\n",
      "40000/40000 [==============================] - 2s 58us/step - loss: 1.5263 - accuracy: 0.4509 - val_loss: 1.5306 - val_accuracy: 0.4487\n",
      "Epoch 36/100\n",
      "40000/40000 [==============================] - 2s 58us/step - loss: 1.5224 - accuracy: 0.4527 - val_loss: 1.5301 - val_accuracy: 0.4460\n",
      "Epoch 37/100\n",
      "40000/40000 [==============================] - 3s 63us/step - loss: 1.5261 - accuracy: 0.4502 - val_loss: 1.5395 - val_accuracy: 0.4395\n",
      "Epoch 38/100\n",
      "40000/40000 [==============================] - 3s 63us/step - loss: 1.5192 - accuracy: 0.4540 - val_loss: 1.5225 - val_accuracy: 0.4545\n",
      "Epoch 39/100\n",
      "40000/40000 [==============================] - 3s 77us/step - loss: 1.5097 - accuracy: 0.4568 - val_loss: 1.5204 - val_accuracy: 0.4548\n",
      "Epoch 40/100\n",
      "40000/40000 [==============================] - 3s 66us/step - loss: 1.5006 - accuracy: 0.4598 - val_loss: 1.5245 - val_accuracy: 0.4501\n",
      "Epoch 41/100\n",
      "40000/40000 [==============================] - 2s 59us/step - loss: 1.5032 - accuracy: 0.4584 - val_loss: 1.5148 - val_accuracy: 0.4547\n",
      "Epoch 42/100\n",
      "40000/40000 [==============================] - 2s 60us/step - loss: 1.4963 - accuracy: 0.4638 - val_loss: 1.5030 - val_accuracy: 0.4573\n",
      "Epoch 43/100\n",
      "40000/40000 [==============================] - 3s 67us/step - loss: 1.4917 - accuracy: 0.4621 - val_loss: 1.5134 - val_accuracy: 0.4516\n",
      "Epoch 44/100\n",
      "40000/40000 [==============================] - 2s 62us/step - loss: 1.4869 - accuracy: 0.4668 - val_loss: 1.5067 - val_accuracy: 0.4568\n",
      "Epoch 45/100\n",
      "40000/40000 [==============================] - 2s 59us/step - loss: 1.4915 - accuracy: 0.4665 - val_loss: 1.5100 - val_accuracy: 0.4538\n",
      "Epoch 46/100\n",
      "40000/40000 [==============================] - 2s 59us/step - loss: 1.4866 - accuracy: 0.4644 - val_loss: 1.5056 - val_accuracy: 0.4553\n",
      "Epoch 47/100\n",
      "40000/40000 [==============================] - 2s 59us/step - loss: 1.4807 - accuracy: 0.4684 - val_loss: 1.4967 - val_accuracy: 0.4555\n",
      "Epoch 48/100\n",
      "40000/40000 [==============================] - 2s 58us/step - loss: 1.4775 - accuracy: 0.4673 - val_loss: 1.4931 - val_accuracy: 0.4573\n",
      "Epoch 49/100\n",
      "40000/40000 [==============================] - 2s 58us/step - loss: 1.4660 - accuracy: 0.4754 - val_loss: 1.4977 - val_accuracy: 0.4572\n",
      "Epoch 50/100\n",
      "40000/40000 [==============================] - 2s 58us/step - loss: 1.4719 - accuracy: 0.4736 - val_loss: 1.4967 - val_accuracy: 0.4674\n",
      "Epoch 51/100\n",
      "40000/40000 [==============================] - 2s 58us/step - loss: 1.4627 - accuracy: 0.4756 - val_loss: 1.4931 - val_accuracy: 0.4595\n",
      "Epoch 52/100\n",
      "40000/40000 [==============================] - 2s 58us/step - loss: 1.4646 - accuracy: 0.4721 - val_loss: 1.4894 - val_accuracy: 0.4628\n",
      "Epoch 53/100\n",
      "40000/40000 [==============================] - 2s 58us/step - loss: 1.4637 - accuracy: 0.4733 - val_loss: 1.4896 - val_accuracy: 0.4648\n",
      "Epoch 54/100\n",
      "40000/40000 [==============================] - 2s 58us/step - loss: 1.4529 - accuracy: 0.4782 - val_loss: 1.4940 - val_accuracy: 0.4596\n",
      "Epoch 55/100\n",
      "40000/40000 [==============================] - 2s 58us/step - loss: 1.4498 - accuracy: 0.4809 - val_loss: 1.4844 - val_accuracy: 0.4649\n",
      "Epoch 56/100\n",
      "40000/40000 [==============================] - 2s 58us/step - loss: 1.4459 - accuracy: 0.4822 - val_loss: 1.4828 - val_accuracy: 0.4655\n",
      "Epoch 57/100\n",
      "40000/40000 [==============================] - 2s 58us/step - loss: 1.4378 - accuracy: 0.4830 - val_loss: 1.4770 - val_accuracy: 0.4673\n",
      "Epoch 58/100\n",
      "40000/40000 [==============================] - 2s 58us/step - loss: 1.4431 - accuracy: 0.4824 - val_loss: 1.4732 - val_accuracy: 0.4701\n",
      "Epoch 59/100\n",
      "40000/40000 [==============================] - 2s 58us/step - loss: 1.4368 - accuracy: 0.4833 - val_loss: 1.4832 - val_accuracy: 0.4671\n",
      "Epoch 60/100\n",
      "40000/40000 [==============================] - 2s 58us/step - loss: 1.4321 - accuracy: 0.4866 - val_loss: 1.4791 - val_accuracy: 0.4634\n",
      "Epoch 61/100\n",
      "40000/40000 [==============================] - 2s 58us/step - loss: 1.4293 - accuracy: 0.4879 - val_loss: 1.4759 - val_accuracy: 0.4683\n",
      "Epoch 62/100\n",
      "40000/40000 [==============================] - 2s 58us/step - loss: 1.4318 - accuracy: 0.4875 - val_loss: 1.5056 - val_accuracy: 0.4578\n",
      "Epoch 63/100\n",
      "40000/40000 [==============================] - 2s 59us/step - loss: 1.4341 - accuracy: 0.4844 - val_loss: 1.4686 - val_accuracy: 0.4711\n",
      "Epoch 64/100\n",
      "40000/40000 [==============================] - 2s 58us/step - loss: 1.4234 - accuracy: 0.4888 - val_loss: 1.4608 - val_accuracy: 0.4732\n",
      "Epoch 65/100\n",
      "40000/40000 [==============================] - 2s 58us/step - loss: 1.4262 - accuracy: 0.4884 - val_loss: 1.4673 - val_accuracy: 0.4765\n",
      "Epoch 66/100\n",
      "40000/40000 [==============================] - 2s 59us/step - loss: 1.4205 - accuracy: 0.4892 - val_loss: 1.5092 - val_accuracy: 0.4567\n",
      "Epoch 67/100\n",
      "40000/40000 [==============================] - 2s 59us/step - loss: 1.4202 - accuracy: 0.4913 - val_loss: 1.4698 - val_accuracy: 0.4692\n",
      "Epoch 68/100\n",
      "40000/40000 [==============================] - 2s 59us/step - loss: 1.4133 - accuracy: 0.4914 - val_loss: 1.4567 - val_accuracy: 0.4769\n",
      "Epoch 69/100\n",
      "40000/40000 [==============================] - 2s 59us/step - loss: 1.4078 - accuracy: 0.4931 - val_loss: 1.4536 - val_accuracy: 0.4753\n",
      "Epoch 70/100\n",
      "40000/40000 [==============================] - 2s 58us/step - loss: 1.4124 - accuracy: 0.4923 - val_loss: 1.4728 - val_accuracy: 0.4671\n",
      "Epoch 71/100\n",
      "40000/40000 [==============================] - 2s 58us/step - loss: 1.4172 - accuracy: 0.4902 - val_loss: 1.4724 - val_accuracy: 0.4672\n",
      "Epoch 72/100\n",
      "40000/40000 [==============================] - 2s 58us/step - loss: 1.4075 - accuracy: 0.4943 - val_loss: 1.4710 - val_accuracy: 0.4678\n",
      "Epoch 73/100\n",
      "40000/40000 [==============================] - 2s 58us/step - loss: 1.4035 - accuracy: 0.4984 - val_loss: 1.4585 - val_accuracy: 0.4738\n",
      "Epoch 74/100\n",
      "40000/40000 [==============================] - 2s 58us/step - loss: 1.4027 - accuracy: 0.4980 - val_loss: 1.4542 - val_accuracy: 0.4759\n",
      "Epoch 75/100\n",
      "40000/40000 [==============================] - 2s 60us/step - loss: 1.3977 - accuracy: 0.4972 - val_loss: 1.4517 - val_accuracy: 0.4759\n",
      "Epoch 76/100\n",
      "40000/40000 [==============================] - 2s 58us/step - loss: 1.3958 - accuracy: 0.5000 - val_loss: 1.4531 - val_accuracy: 0.4783\n",
      "Epoch 77/100\n",
      "40000/40000 [==============================] - 2s 58us/step - loss: 1.3915 - accuracy: 0.4992 - val_loss: 1.4601 - val_accuracy: 0.4742\n",
      "Epoch 78/100\n",
      "40000/40000 [==============================] - 2s 58us/step - loss: 1.3977 - accuracy: 0.4974 - val_loss: 1.4723 - val_accuracy: 0.4698\n",
      "Epoch 79/100\n",
      "40000/40000 [==============================] - 2s 58us/step - loss: 1.3921 - accuracy: 0.4996 - val_loss: 1.4730 - val_accuracy: 0.4707\n",
      "Epoch 80/100\n",
      "40000/40000 [==============================] - 2s 58us/step - loss: 1.3868 - accuracy: 0.5017 - val_loss: 1.4663 - val_accuracy: 0.4728\n",
      "Epoch 81/100\n",
      "40000/40000 [==============================] - 2s 58us/step - loss: 1.3846 - accuracy: 0.5024 - val_loss: 1.4473 - val_accuracy: 0.4788\n",
      "Epoch 82/100\n",
      "40000/40000 [==============================] - 2s 58us/step - loss: 1.3916 - accuracy: 0.5004 - val_loss: 1.4731 - val_accuracy: 0.4643\n",
      "Epoch 83/100\n",
      "40000/40000 [==============================] - 2s 61us/step - loss: 1.3897 - accuracy: 0.5006 - val_loss: 1.4462 - val_accuracy: 0.4783\n",
      "Epoch 84/100\n",
      "40000/40000 [==============================] - 2s 58us/step - loss: 1.3821 - accuracy: 0.5030 - val_loss: 1.4516 - val_accuracy: 0.4797\n",
      "Epoch 85/100\n",
      "40000/40000 [==============================] - 2s 59us/step - loss: 1.3792 - accuracy: 0.5058 - val_loss: 1.4476 - val_accuracy: 0.4794\n",
      "Epoch 86/100\n",
      "40000/40000 [==============================] - 2s 58us/step - loss: 1.3790 - accuracy: 0.5069 - val_loss: 1.4482 - val_accuracy: 0.4832\n",
      "Epoch 87/100\n",
      "40000/40000 [==============================] - 2s 58us/step - loss: 1.3781 - accuracy: 0.5062 - val_loss: 1.4701 - val_accuracy: 0.4748\n",
      "Epoch 88/100\n",
      "40000/40000 [==============================] - 2s 58us/step - loss: 1.3691 - accuracy: 0.5092 - val_loss: 1.4514 - val_accuracy: 0.4803\n",
      "Epoch 89/100\n",
      "40000/40000 [==============================] - 2s 58us/step - loss: 1.3699 - accuracy: 0.5100 - val_loss: 1.4423 - val_accuracy: 0.4861\n",
      "Epoch 90/100\n",
      "40000/40000 [==============================] - 2s 58us/step - loss: 1.3649 - accuracy: 0.5102 - val_loss: 1.4630 - val_accuracy: 0.4744\n",
      "Epoch 91/100\n",
      "40000/40000 [==============================] - 2s 58us/step - loss: 1.3681 - accuracy: 0.5080 - val_loss: 1.4638 - val_accuracy: 0.4693\n",
      "Epoch 92/100\n",
      "40000/40000 [==============================] - 2s 58us/step - loss: 1.3672 - accuracy: 0.5086 - val_loss: 1.4416 - val_accuracy: 0.4825\n",
      "Epoch 93/100\n",
      "40000/40000 [==============================] - 2s 58us/step - loss: 1.3664 - accuracy: 0.5116 - val_loss: 1.4596 - val_accuracy: 0.4777\n",
      "Epoch 94/100\n",
      "40000/40000 [==============================] - 2s 58us/step - loss: 1.3596 - accuracy: 0.5107 - val_loss: 1.4421 - val_accuracy: 0.4836\n",
      "Epoch 95/100\n",
      "40000/40000 [==============================] - 2s 59us/step - loss: 1.3552 - accuracy: 0.5141 - val_loss: 1.4412 - val_accuracy: 0.4824\n",
      "Epoch 96/100\n",
      "40000/40000 [==============================] - 2s 58us/step - loss: 1.3519 - accuracy: 0.5153 - val_loss: 1.4365 - val_accuracy: 0.4888\n",
      "Epoch 97/100\n",
      "40000/40000 [==============================] - 2s 58us/step - loss: 1.3548 - accuracy: 0.5149 - val_loss: 1.4456 - val_accuracy: 0.4809\n",
      "Epoch 98/100\n",
      "40000/40000 [==============================] - 2s 58us/step - loss: 1.3562 - accuracy: 0.5130 - val_loss: 1.4382 - val_accuracy: 0.4806\n",
      "Epoch 99/100\n",
      "40000/40000 [==============================] - 2s 58us/step - loss: 1.3551 - accuracy: 0.5110 - val_loss: 1.4405 - val_accuracy: 0.4836\n",
      "Epoch 100/100\n",
      "40000/40000 [==============================] - 2s 58us/step - loss: 1.3542 - accuracy: 0.5138 - val_loss: 1.4469 - val_accuracy: 0.4820\n"
     ]
    },
    {
     "data": {
      "text/plain": [
       "<keras.callbacks.callbacks.History at 0x7f9dd4647e10>"
      ]
     },
     "execution_count": 35,
     "metadata": {},
     "output_type": "execute_result"
    }
   ],
   "source": [
    "#%%time              ##to know how much time is taken for execution of the below line\n",
    "nr_epochs = 100\n",
    "model_2.fit(x_train,y_train,batch_size = samples_per_batch,epochs=nr_epochs,\n",
    "            callbacks=[get_tensorboard('Model 2 XL')],validation_data=(x_val,y_val))"
   ]
  },
  {
   "cell_type": "code",
   "execution_count": 36,
   "metadata": {},
   "outputs": [
    {
     "name": "stdout",
     "output_type": "stream",
     "text": [
      "Model 3 XL at 10 49\n",
      "Successfully created directory\n",
      "Train on 40000 samples, validate on 10000 samples\n",
      "Epoch 1/100\n",
      "40000/40000 [==============================] - 3s 86us/step - loss: 2.2751 - accuracy: 0.1313 - val_loss: 2.1876 - val_accuracy: 0.1686\n",
      "Epoch 2/100\n",
      "40000/40000 [==============================] - 3s 69us/step - loss: 2.1190 - accuracy: 0.2017 - val_loss: 1.9871 - val_accuracy: 0.2611\n",
      "Epoch 3/100\n",
      "40000/40000 [==============================] - 3s 68us/step - loss: 1.9740 - accuracy: 0.2693 - val_loss: 1.9042 - val_accuracy: 0.3005\n",
      "Epoch 4/100\n",
      "40000/40000 [==============================] - 3s 67us/step - loss: 1.9135 - accuracy: 0.2989 - val_loss: 1.8416 - val_accuracy: 0.3298\n",
      "Epoch 5/100\n",
      "40000/40000 [==============================] - 2s 62us/step - loss: 1.8793 - accuracy: 0.3136 - val_loss: 1.8062 - val_accuracy: 0.3481\n",
      "Epoch 6/100\n",
      "40000/40000 [==============================] - 3s 66us/step - loss: 1.8491 - accuracy: 0.3244 - val_loss: 1.7893 - val_accuracy: 0.3488\n",
      "Epoch 7/100\n",
      "40000/40000 [==============================] - 2s 60us/step - loss: 1.8311 - accuracy: 0.3352 - val_loss: 1.7544 - val_accuracy: 0.3656\n",
      "Epoch 8/100\n",
      "40000/40000 [==============================] - 2s 59us/step - loss: 1.8046 - accuracy: 0.3458 - val_loss: 1.7286 - val_accuracy: 0.3805\n",
      "Epoch 9/100\n",
      "40000/40000 [==============================] - 2s 62us/step - loss: 1.7873 - accuracy: 0.3526 - val_loss: 1.7088 - val_accuracy: 0.3868\n",
      "Epoch 10/100\n",
      "40000/40000 [==============================] - 2s 62us/step - loss: 1.7767 - accuracy: 0.3574 - val_loss: 1.6905 - val_accuracy: 0.3948\n",
      "Epoch 11/100\n",
      "40000/40000 [==============================] - 2s 60us/step - loss: 1.7580 - accuracy: 0.3679 - val_loss: 1.6815 - val_accuracy: 0.3957\n",
      "Epoch 12/100\n",
      "40000/40000 [==============================] - 3s 67us/step - loss: 1.7489 - accuracy: 0.3711 - val_loss: 1.6717 - val_accuracy: 0.4024\n",
      "Epoch 13/100\n",
      "40000/40000 [==============================] - 3s 63us/step - loss: 1.7361 - accuracy: 0.3727 - val_loss: 1.6485 - val_accuracy: 0.4092\n",
      "Epoch 14/100\n",
      "40000/40000 [==============================] - 2s 60us/step - loss: 1.7266 - accuracy: 0.3762 - val_loss: 1.6466 - val_accuracy: 0.4046\n",
      "Epoch 15/100\n",
      "40000/40000 [==============================] - 2s 62us/step - loss: 1.7169 - accuracy: 0.3786 - val_loss: 1.6327 - val_accuracy: 0.4104\n",
      "Epoch 16/100\n",
      "40000/40000 [==============================] - 3s 64us/step - loss: 1.7025 - accuracy: 0.3830 - val_loss: 1.6231 - val_accuracy: 0.4120\n",
      "Epoch 17/100\n",
      "40000/40000 [==============================] - 3s 63us/step - loss: 1.6973 - accuracy: 0.3906 - val_loss: 1.6155 - val_accuracy: 0.4161\n",
      "Epoch 18/100\n",
      "40000/40000 [==============================] - 2s 60us/step - loss: 1.6848 - accuracy: 0.3932 - val_loss: 1.6206 - val_accuracy: 0.4156\n",
      "Epoch 19/100\n",
      "40000/40000 [==============================] - 3s 65us/step - loss: 1.6860 - accuracy: 0.3887 - val_loss: 1.5949 - val_accuracy: 0.4285\n",
      "Epoch 20/100\n",
      "40000/40000 [==============================] - 3s 63us/step - loss: 1.6764 - accuracy: 0.3962 - val_loss: 1.6022 - val_accuracy: 0.4261\n",
      "Epoch 21/100\n",
      "40000/40000 [==============================] - 2s 60us/step - loss: 1.6776 - accuracy: 0.3983 - val_loss: 1.5979 - val_accuracy: 0.4251\n",
      "Epoch 22/100\n",
      "40000/40000 [==============================] - 3s 66us/step - loss: 1.6618 - accuracy: 0.4001 - val_loss: 1.5729 - val_accuracy: 0.4309\n",
      "Epoch 23/100\n",
      "40000/40000 [==============================] - 3s 73us/step - loss: 1.6599 - accuracy: 0.4004 - val_loss: 1.5777 - val_accuracy: 0.4339\n",
      "Epoch 24/100\n",
      "40000/40000 [==============================] - 3s 66us/step - loss: 1.6560 - accuracy: 0.4031 - val_loss: 1.5774 - val_accuracy: 0.4338\n",
      "Epoch 25/100\n",
      "40000/40000 [==============================] - 3s 64us/step - loss: 1.6475 - accuracy: 0.4050 - val_loss: 1.5624 - val_accuracy: 0.4363\n",
      "Epoch 26/100\n",
      "40000/40000 [==============================] - 2s 60us/step - loss: 1.6513 - accuracy: 0.4022 - val_loss: 1.5747 - val_accuracy: 0.4370\n",
      "Epoch 27/100\n",
      "40000/40000 [==============================] - 3s 75us/step - loss: 1.6492 - accuracy: 0.4074 - val_loss: 1.5607 - val_accuracy: 0.4384\n",
      "Epoch 28/100\n",
      "40000/40000 [==============================] - 3s 63us/step - loss: 1.6450 - accuracy: 0.4081 - val_loss: 1.5625 - val_accuracy: 0.4337\n",
      "Epoch 29/100\n",
      "40000/40000 [==============================] - 3s 67us/step - loss: 1.6397 - accuracy: 0.4093 - val_loss: 1.5491 - val_accuracy: 0.4530\n",
      "Epoch 30/100\n",
      "40000/40000 [==============================] - 3s 68us/step - loss: 1.6303 - accuracy: 0.4101 - val_loss: 1.5511 - val_accuracy: 0.4434\n",
      "Epoch 31/100\n",
      "40000/40000 [==============================] - 3s 71us/step - loss: 1.6248 - accuracy: 0.4147 - val_loss: 1.5531 - val_accuracy: 0.4428\n",
      "Epoch 32/100\n",
      "40000/40000 [==============================] - 3s 66us/step - loss: 1.6241 - accuracy: 0.4153 - val_loss: 1.5334 - val_accuracy: 0.4498\n",
      "Epoch 33/100\n",
      "40000/40000 [==============================] - 3s 65us/step - loss: 1.6119 - accuracy: 0.4179 - val_loss: 1.5392 - val_accuracy: 0.4485\n",
      "Epoch 34/100\n",
      "40000/40000 [==============================] - 3s 68us/step - loss: 1.6222 - accuracy: 0.4167 - val_loss: 1.5274 - val_accuracy: 0.4552\n",
      "Epoch 35/100\n",
      "40000/40000 [==============================] - 3s 65us/step - loss: 1.6149 - accuracy: 0.4180 - val_loss: 1.5366 - val_accuracy: 0.4538\n",
      "Epoch 36/100\n",
      "40000/40000 [==============================] - 3s 65us/step - loss: 1.6034 - accuracy: 0.4207 - val_loss: 1.5114 - val_accuracy: 0.4581\n",
      "Epoch 37/100\n",
      "40000/40000 [==============================] - 3s 64us/step - loss: 1.6056 - accuracy: 0.4207 - val_loss: 1.5224 - val_accuracy: 0.4582\n",
      "Epoch 38/100\n",
      "40000/40000 [==============================] - 3s 66us/step - loss: 1.6077 - accuracy: 0.4197 - val_loss: 1.5174 - val_accuracy: 0.4598\n",
      "Epoch 39/100\n",
      "40000/40000 [==============================] - 3s 67us/step - loss: 1.5956 - accuracy: 0.4251 - val_loss: 1.5257 - val_accuracy: 0.4559\n",
      "Epoch 40/100\n",
      "40000/40000 [==============================] - 3s 79us/step - loss: 1.5986 - accuracy: 0.4247 - val_loss: 1.5148 - val_accuracy: 0.4611\n",
      "Epoch 41/100\n",
      "40000/40000 [==============================] - 3s 72us/step - loss: 1.5958 - accuracy: 0.4248 - val_loss: 1.5135 - val_accuracy: 0.4534\n",
      "Epoch 42/100\n",
      "40000/40000 [==============================] - 3s 70us/step - loss: 1.5923 - accuracy: 0.4289 - val_loss: 1.5140 - val_accuracy: 0.4599\n",
      "Epoch 43/100\n",
      "40000/40000 [==============================] - 3s 70us/step - loss: 1.5904 - accuracy: 0.4266 - val_loss: 1.5249 - val_accuracy: 0.4497\n",
      "Epoch 44/100\n",
      "40000/40000 [==============================] - 3s 78us/step - loss: 1.5910 - accuracy: 0.4287 - val_loss: 1.5151 - val_accuracy: 0.4694\n",
      "Epoch 45/100\n",
      "40000/40000 [==============================] - 3s 64us/step - loss: 1.5820 - accuracy: 0.4325 - val_loss: 1.5004 - val_accuracy: 0.4692\n",
      "Epoch 46/100\n",
      "40000/40000 [==============================] - 2s 60us/step - loss: 1.5809 - accuracy: 0.4327 - val_loss: 1.5122 - val_accuracy: 0.4621\n",
      "Epoch 47/100\n",
      "40000/40000 [==============================] - 3s 67us/step - loss: 1.5823 - accuracy: 0.4286 - val_loss: 1.5030 - val_accuracy: 0.4658\n",
      "Epoch 48/100\n",
      "40000/40000 [==============================] - 2s 60us/step - loss: 1.5746 - accuracy: 0.4333 - val_loss: 1.5021 - val_accuracy: 0.4671\n",
      "Epoch 49/100\n",
      "40000/40000 [==============================] - 3s 66us/step - loss: 1.5718 - accuracy: 0.4324 - val_loss: 1.5002 - val_accuracy: 0.4669\n",
      "Epoch 50/100\n",
      "40000/40000 [==============================] - 2s 62us/step - loss: 1.5798 - accuracy: 0.4322 - val_loss: 1.5076 - val_accuracy: 0.4678\n",
      "Epoch 51/100\n",
      "40000/40000 [==============================] - 2s 61us/step - loss: 1.5731 - accuracy: 0.4326 - val_loss: 1.4927 - val_accuracy: 0.4695\n",
      "Epoch 52/100\n",
      "40000/40000 [==============================] - 2s 60us/step - loss: 1.5657 - accuracy: 0.4351 - val_loss: 1.5129 - val_accuracy: 0.4568\n",
      "Epoch 53/100\n",
      "40000/40000 [==============================] - 3s 71us/step - loss: 1.5657 - accuracy: 0.4369 - val_loss: 1.4816 - val_accuracy: 0.4715\n",
      "Epoch 54/100\n",
      "40000/40000 [==============================] - 4s 108us/step - loss: 1.5638 - accuracy: 0.4387 - val_loss: 1.5005 - val_accuracy: 0.4575\n",
      "Epoch 55/100\n",
      "40000/40000 [==============================] - 4s 101us/step - loss: 1.5627 - accuracy: 0.4349 - val_loss: 1.4992 - val_accuracy: 0.4624\n",
      "Epoch 56/100\n",
      "40000/40000 [==============================] - 5s 115us/step - loss: 1.5628 - accuracy: 0.4378 - val_loss: 1.4879 - val_accuracy: 0.4680\n",
      "Epoch 57/100\n",
      "40000/40000 [==============================] - 4s 110us/step - loss: 1.5610 - accuracy: 0.4394 - val_loss: 1.4996 - val_accuracy: 0.4681\n",
      "Epoch 58/100\n",
      "40000/40000 [==============================] - 3s 87us/step - loss: 1.5575 - accuracy: 0.4388 - val_loss: 1.4870 - val_accuracy: 0.4753\n",
      "Epoch 59/100\n",
      "40000/40000 [==============================] - 3s 80us/step - loss: 1.5586 - accuracy: 0.4408 - val_loss: 1.4896 - val_accuracy: 0.4675\n",
      "Epoch 60/100\n",
      "40000/40000 [==============================] - 4s 91us/step - loss: 1.5527 - accuracy: 0.4420 - val_loss: 1.4876 - val_accuracy: 0.4686\n",
      "Epoch 61/100\n",
      "40000/40000 [==============================] - 3s 85us/step - loss: 1.5560 - accuracy: 0.4402 - val_loss: 1.4832 - val_accuracy: 0.4740\n",
      "Epoch 62/100\n",
      "40000/40000 [==============================] - 3s 77us/step - loss: 1.5570 - accuracy: 0.4410 - val_loss: 1.4956 - val_accuracy: 0.4648\n",
      "Epoch 63/100\n",
      "40000/40000 [==============================] - 3s 75us/step - loss: 1.5519 - accuracy: 0.4434 - val_loss: 1.4773 - val_accuracy: 0.4722\n",
      "Epoch 64/100\n",
      "40000/40000 [==============================] - 3s 73us/step - loss: 1.5515 - accuracy: 0.4422 - val_loss: 1.4790 - val_accuracy: 0.4726\n",
      "Epoch 65/100\n",
      "40000/40000 [==============================] - 3s 73us/step - loss: 1.5536 - accuracy: 0.4399 - val_loss: 1.4863 - val_accuracy: 0.4662\n",
      "Epoch 66/100\n",
      "40000/40000 [==============================] - 3s 75us/step - loss: 1.5492 - accuracy: 0.4415 - val_loss: 1.4874 - val_accuracy: 0.4735\n",
      "Epoch 67/100\n",
      "40000/40000 [==============================] - 4s 94us/step - loss: 1.5407 - accuracy: 0.4476 - val_loss: 1.4833 - val_accuracy: 0.4735\n",
      "Epoch 68/100\n",
      "40000/40000 [==============================] - 3s 82us/step - loss: 1.5397 - accuracy: 0.4482 - val_loss: 1.4834 - val_accuracy: 0.4702\n",
      "Epoch 69/100\n",
      "40000/40000 [==============================] - 3s 73us/step - loss: 1.5434 - accuracy: 0.4444 - val_loss: 1.4790 - val_accuracy: 0.4702\n",
      "Epoch 70/100\n",
      "40000/40000 [==============================] - 3s 73us/step - loss: 1.5425 - accuracy: 0.4424 - val_loss: 1.4806 - val_accuracy: 0.4719\n",
      "Epoch 71/100\n",
      "40000/40000 [==============================] - 3s 74us/step - loss: 1.5455 - accuracy: 0.4443 - val_loss: 1.4721 - val_accuracy: 0.4733\n",
      "Epoch 72/100\n",
      "40000/40000 [==============================] - 4s 91us/step - loss: 1.5359 - accuracy: 0.4479 - val_loss: 1.4776 - val_accuracy: 0.4709\n",
      "Epoch 73/100\n",
      "40000/40000 [==============================] - 3s 80us/step - loss: 1.5351 - accuracy: 0.4452 - val_loss: 1.4921 - val_accuracy: 0.4649\n",
      "Epoch 74/100\n",
      "40000/40000 [==============================] - 3s 74us/step - loss: 1.5364 - accuracy: 0.4463 - val_loss: 1.4770 - val_accuracy: 0.4749\n",
      "Epoch 75/100\n",
      "40000/40000 [==============================] - 3s 74us/step - loss: 1.5334 - accuracy: 0.4486 - val_loss: 1.4775 - val_accuracy: 0.4652\n",
      "Epoch 76/100\n",
      "40000/40000 [==============================] - 3s 83us/step - loss: 1.5313 - accuracy: 0.4495 - val_loss: 1.4640 - val_accuracy: 0.4795\n",
      "Epoch 77/100\n",
      "40000/40000 [==============================] - 4s 97us/step - loss: 1.5302 - accuracy: 0.4493 - val_loss: 1.4931 - val_accuracy: 0.4701\n",
      "Epoch 78/100\n",
      "40000/40000 [==============================] - 3s 77us/step - loss: 1.5258 - accuracy: 0.4490 - val_loss: 1.4788 - val_accuracy: 0.4766\n",
      "Epoch 79/100\n",
      "40000/40000 [==============================] - 3s 74us/step - loss: 1.5305 - accuracy: 0.4476 - val_loss: 1.4587 - val_accuracy: 0.4765\n",
      "Epoch 80/100\n",
      "40000/40000 [==============================] - 3s 73us/step - loss: 1.5247 - accuracy: 0.4525 - val_loss: 1.4694 - val_accuracy: 0.4774\n",
      "Epoch 81/100\n",
      "40000/40000 [==============================] - 3s 74us/step - loss: 1.5294 - accuracy: 0.4529 - val_loss: 1.4712 - val_accuracy: 0.4763\n",
      "Epoch 82/100\n",
      "40000/40000 [==============================] - 3s 74us/step - loss: 1.5235 - accuracy: 0.4498 - val_loss: 1.4775 - val_accuracy: 0.4662\n",
      "Epoch 83/100\n",
      "40000/40000 [==============================] - 3s 74us/step - loss: 1.5235 - accuracy: 0.4518 - val_loss: 1.4720 - val_accuracy: 0.4728\n",
      "Epoch 84/100\n",
      "40000/40000 [==============================] - 3s 73us/step - loss: 1.5204 - accuracy: 0.4526 - val_loss: 1.4726 - val_accuracy: 0.4743\n",
      "Epoch 85/100\n",
      "40000/40000 [==============================] - 3s 73us/step - loss: 1.5194 - accuracy: 0.4546 - val_loss: 1.4748 - val_accuracy: 0.4710\n",
      "Epoch 86/100\n",
      "40000/40000 [==============================] - 3s 73us/step - loss: 1.5257 - accuracy: 0.4489 - val_loss: 1.4803 - val_accuracy: 0.4715\n",
      "Epoch 87/100\n",
      "40000/40000 [==============================] - 3s 73us/step - loss: 1.5229 - accuracy: 0.4536 - val_loss: 1.4745 - val_accuracy: 0.4709\n",
      "Epoch 88/100\n",
      "40000/40000 [==============================] - 3s 76us/step - loss: 1.5200 - accuracy: 0.4515 - val_loss: 1.4678 - val_accuracy: 0.4739\n",
      "Epoch 89/100\n",
      "40000/40000 [==============================] - 3s 74us/step - loss: 1.5163 - accuracy: 0.4511 - val_loss: 1.4558 - val_accuracy: 0.4827\n",
      "Epoch 90/100\n",
      "40000/40000 [==============================] - 2s 61us/step - loss: 1.5135 - accuracy: 0.4559 - val_loss: 1.4727 - val_accuracy: 0.4783\n",
      "Epoch 91/100\n",
      "40000/40000 [==============================] - 2s 60us/step - loss: 1.5154 - accuracy: 0.4556 - val_loss: 1.4641 - val_accuracy: 0.4812\n",
      "Epoch 92/100\n",
      "40000/40000 [==============================] - 2s 61us/step - loss: 1.5140 - accuracy: 0.4554 - val_loss: 1.4660 - val_accuracy: 0.4773\n",
      "Epoch 93/100\n",
      "40000/40000 [==============================] - 2s 60us/step - loss: 1.5139 - accuracy: 0.4534 - val_loss: 1.4561 - val_accuracy: 0.4827\n",
      "Epoch 94/100\n",
      "40000/40000 [==============================] - 2s 60us/step - loss: 1.5116 - accuracy: 0.4576 - val_loss: 1.4691 - val_accuracy: 0.4838\n",
      "Epoch 95/100\n",
      "40000/40000 [==============================] - 2s 60us/step - loss: 1.5191 - accuracy: 0.4520 - val_loss: 1.4847 - val_accuracy: 0.4768\n",
      "Epoch 96/100\n",
      "40000/40000 [==============================] - 2s 60us/step - loss: 1.5107 - accuracy: 0.4573 - val_loss: 1.4735 - val_accuracy: 0.4750\n",
      "Epoch 97/100\n",
      "40000/40000 [==============================] - 2s 60us/step - loss: 1.5128 - accuracy: 0.4523 - val_loss: 1.4637 - val_accuracy: 0.4802\n",
      "Epoch 98/100\n",
      "40000/40000 [==============================] - 2s 59us/step - loss: 1.5082 - accuracy: 0.4556 - val_loss: 1.4560 - val_accuracy: 0.4837\n",
      "Epoch 99/100\n",
      "40000/40000 [==============================] - 3s 70us/step - loss: 1.5095 - accuracy: 0.4568 - val_loss: 1.4703 - val_accuracy: 0.4770\n",
      "Epoch 100/100\n",
      "40000/40000 [==============================] - 3s 82us/step - loss: 1.5105 - accuracy: 0.4541 - val_loss: 1.4574 - val_accuracy: 0.4794\n"
     ]
    },
    {
     "data": {
      "text/plain": [
       "<keras.callbacks.callbacks.History at 0x7f9dd45ca240>"
      ]
     },
     "execution_count": 36,
     "metadata": {},
     "output_type": "execute_result"
    }
   ],
   "source": [
    "#%%time              ##to know how much time is taken for execution of the below line\n",
    "nr_epochs = 100\n",
    "model_3.fit(x_train,y_train,batch_size = samples_per_batch,epochs=nr_epochs,\n",
    "            callbacks=[get_tensorboard('Model 3 XL')],validation_data=(x_val,y_val))"
   ]
  },
  {
   "cell_type": "markdown",
   "metadata": {},
   "source": [
    "# Predictions on Individual Images"
   ]
  },
  {
   "cell_type": "code",
   "execution_count": 59,
   "metadata": {},
   "outputs": [
    {
     "data": {
      "text/plain": [
       "(3072,)"
      ]
     },
     "execution_count": 59,
     "metadata": {},
     "output_type": "execute_result"
    }
   ],
   "source": [
    "x_val[0].shape"
   ]
  },
  {
   "cell_type": "code",
   "execution_count": 60,
   "metadata": {},
   "outputs": [
    {
     "data": {
      "text/plain": [
       "(1, 3072)"
      ]
     },
     "execution_count": 60,
     "metadata": {},
     "output_type": "execute_result"
    }
   ],
   "source": [
    "test  =np.expand_dims(x_val[0],axis=0)\n",
    "test.shape"
   ]
  },
  {
   "cell_type": "code",
   "execution_count": 62,
   "metadata": {},
   "outputs": [],
   "source": [
    "np.set_printoptions(precision=3)"
   ]
  },
  {
   "cell_type": "code",
   "execution_count": 63,
   "metadata": {},
   "outputs": [
    {
     "data": {
      "text/plain": [
       "array([[0.007, 0.003, 0.081, 0.132, 0.166, 0.286, 0.256, 0.066, 0.001,\n",
       "        0.002]], dtype=float32)"
      ]
     },
     "execution_count": 63,
     "metadata": {},
     "output_type": "execute_result"
    }
   ],
   "source": [
    "model_2.predict(test)"
   ]
  },
  {
   "cell_type": "code",
   "execution_count": 64,
   "metadata": {},
   "outputs": [
    {
     "data": {
      "text/plain": [
       "array([5])"
      ]
     },
     "execution_count": 64,
     "metadata": {},
     "output_type": "execute_result"
    }
   ],
   "source": [
    "model_2.predict_classes(test)"
   ]
  },
  {
   "cell_type": "code",
   "execution_count": 65,
   "metadata": {},
   "outputs": [
    {
     "data": {
      "text/plain": [
       "array([6], dtype=uint8)"
      ]
     },
     "execution_count": 65,
     "metadata": {},
     "output_type": "execute_result"
    }
   ],
   "source": [
    "y_val[0]"
   ]
  },
  {
   "cell_type": "code",
   "execution_count": 70,
   "metadata": {},
   "outputs": [
    {
     "name": "stdout",
     "output_type": "stream",
     "text": [
      "Actual value: 6 vs predicted: 5\n",
      "Actual value: 9 vs predicted: 1\n",
      "Actual value: 9 vs predicted: 9\n",
      "Actual value: 4 vs predicted: 6\n",
      "Actual value: 1 vs predicted: 1\n",
      "Actual value: 1 vs predicted: 9\n",
      "Actual value: 2 vs predicted: 2\n",
      "Actual value: 7 vs predicted: 7\n",
      "Actual value: 8 vs predicted: 8\n",
      "Actual value: 3 vs predicted: 9\n"
     ]
    }
   ],
   "source": [
    "for i in range(10):\n",
    "    test_img  =np.expand_dims(x_val[i],axis=0)\n",
    "    predicted_val=model_2.predict_classes(test_img)[0]\n",
    "    print(f'Actual value: {y_val[i][0]} vs predicted: {predicted_val}')"
   ]
  },
  {
   "cell_type": "markdown",
   "metadata": {},
   "source": [
    "# Evaluation"
   ]
  },
  {
   "cell_type": "code",
   "execution_count": 38,
   "metadata": {},
   "outputs": [
    {
     "data": {
      "text/plain": [
       "['loss', 'accuracy']"
      ]
     },
     "execution_count": 38,
     "metadata": {},
     "output_type": "execute_result"
    }
   ],
   "source": [
    "model_2.metrics_names     ##list of models that can calculate for us"
   ]
  },
  {
   "cell_type": "code",
   "execution_count": 47,
   "metadata": {},
   "outputs": [
    {
     "name": "stdout",
     "output_type": "stream",
     "text": [
      "10000/10000 [==============================] - 1s 66us/step\n",
      "Test loss is :1.45 and Test accuracy is: 48.950%\n"
     ]
    }
   ],
   "source": [
    "test_loss,test_accuracy=model_2.evaluate(x_test,y_test)\n",
    "print(f'Test loss is :{test_loss:0.3} and Test accuracy is: {test_accuracy:0.3%}')"
   ]
  },
  {
   "cell_type": "markdown",
   "metadata": {},
   "source": [
    "## Confusion Matrix"
   ]
  },
  {
   "cell_type": "code",
   "execution_count": 70,
   "metadata": {},
   "outputs": [],
   "source": [
    "from sklearn.metrics import confusion_matrix\n",
    "import itertools"
   ]
  },
  {
   "cell_type": "code",
   "execution_count": 51,
   "metadata": {},
   "outputs": [],
   "source": [
    "conf_matrix = confusion_matrix(y_true=y_test,y_pred=model_2.predict_classes(x_test))"
   ]
  },
  {
   "cell_type": "code",
   "execution_count": 52,
   "metadata": {},
   "outputs": [
    {
     "data": {
      "text/plain": [
       "(10, 10)"
      ]
     },
     "execution_count": 52,
     "metadata": {},
     "output_type": "execute_result"
    }
   ],
   "source": [
    "conf_matrix.shape"
   ]
  },
  {
   "cell_type": "code",
   "execution_count": 54,
   "metadata": {},
   "outputs": [],
   "source": [
    "nr_rows = conf_matrix.shape[0]\n",
    "nr_cols = conf_matrix.shape[1]"
   ]
  },
  {
   "cell_type": "code",
   "execution_count": 55,
   "metadata": {},
   "outputs": [
    {
     "data": {
      "text/plain": [
       "644"
      ]
     },
     "execution_count": 55,
     "metadata": {},
     "output_type": "execute_result"
    }
   ],
   "source": [
    "conf_matrix.max()"
   ]
  },
  {
   "cell_type": "code",
   "execution_count": 56,
   "metadata": {},
   "outputs": [
    {
     "data": {
      "text/plain": [
       "6"
      ]
     },
     "execution_count": 56,
     "metadata": {},
     "output_type": "execute_result"
    }
   ],
   "source": [
    "conf_matrix.min()"
   ]
  },
  {
   "cell_type": "code",
   "execution_count": 1,
   "metadata": {},
   "outputs": [
    {
     "ename": "NameError",
     "evalue": "name 'plt' is not defined",
     "output_type": "error",
     "traceback": [
      "\u001b[0;31m---------------------------------------------------------------------------\u001b[0m",
      "\u001b[0;31mNameError\u001b[0m                                 Traceback (most recent call last)",
      "\u001b[0;32m<ipython-input-1-66fb464aa091>\u001b[0m in \u001b[0;36m<module>\u001b[0;34m\u001b[0m\n\u001b[0;32m----> 1\u001b[0;31m \u001b[0mplt\u001b[0m\u001b[0;34m.\u001b[0m\u001b[0mfigure\u001b[0m\u001b[0;34m(\u001b[0m\u001b[0mfigsize\u001b[0m\u001b[0;34m=\u001b[0m\u001b[0;34m(\u001b[0m\u001b[0;36m7\u001b[0m\u001b[0;34m,\u001b[0m\u001b[0;36m7\u001b[0m\u001b[0;34m)\u001b[0m\u001b[0;34m,\u001b[0m\u001b[0mdpi\u001b[0m \u001b[0;34m=\u001b[0m\u001b[0;36m220\u001b[0m\u001b[0;34m)\u001b[0m\u001b[0;34m\u001b[0m\u001b[0;34m\u001b[0m\u001b[0m\n\u001b[0m\u001b[1;32m      2\u001b[0m \u001b[0mplt\u001b[0m\u001b[0;34m.\u001b[0m\u001b[0mimshow\u001b[0m\u001b[0;34m(\u001b[0m\u001b[0mconf_matrix\u001b[0m\u001b[0;34m,\u001b[0m \u001b[0mcmap\u001b[0m\u001b[0;34m=\u001b[0m\u001b[0mplt\u001b[0m\u001b[0;34m.\u001b[0m\u001b[0mcm\u001b[0m\u001b[0;34m.\u001b[0m\u001b[0mGreens\u001b[0m\u001b[0;34m)\u001b[0m\u001b[0;34m\u001b[0m\u001b[0;34m\u001b[0m\u001b[0m\n\u001b[1;32m      3\u001b[0m \u001b[0;34m\u001b[0m\u001b[0m\n\u001b[1;32m      4\u001b[0m \u001b[0mplt\u001b[0m\u001b[0;34m.\u001b[0m\u001b[0mtitle\u001b[0m\u001b[0;34m(\u001b[0m\u001b[0;34m\"Confusion Matrix\"\u001b[0m\u001b[0;34m,\u001b[0m\u001b[0mfontsize\u001b[0m\u001b[0;34m=\u001b[0m\u001b[0;36m16\u001b[0m\u001b[0;34m)\u001b[0m\u001b[0;34m\u001b[0m\u001b[0;34m\u001b[0m\u001b[0m\n\u001b[1;32m      5\u001b[0m \u001b[0mplt\u001b[0m\u001b[0;34m.\u001b[0m\u001b[0mylabel\u001b[0m\u001b[0;34m(\u001b[0m\u001b[0;34m'Actual Labels'\u001b[0m\u001b[0;34m)\u001b[0m\u001b[0;34m\u001b[0m\u001b[0;34m\u001b[0m\u001b[0m\n",
      "\u001b[0;31mNameError\u001b[0m: name 'plt' is not defined"
     ]
    }
   ],
   "source": [
    "plt.figure(figsize=(7,7),dpi =220)\n",
    "plt.imshow(conf_matrix, cmap=plt.cm.Greens)\n",
    "\n",
    "plt.title(\"Confusion Matrix\",fontsize=16)\n",
    "plt.ylabel('Actual Labels')\n",
    "plt.xlabel('Predicted Labels')\n",
    "\n",
    "tick_marks = np.arange(NR_CLASSES)\n",
    "\n",
    "plt.yticks(tick_marks,LABEL_NAMES)\n",
    "plt.xticks(tick_marks,LABEL_NAMES)\n",
    "\n",
    "plt.colorbar()\n",
    "\n",
    "for i,j in itertools.product(range(nr_rows),range(nr_cols)):\n",
    "    plt.text(j,i,conf_matrix[i,j],horizontalalignment='center',\n",
    "            color='white' if conf_matrix[i,j]>conf_matrix.max()/2 else 'black')"
   ]
  },
  {
   "cell_type": "code",
   "execution_count": 86,
   "metadata": {},
   "outputs": [
    {
     "data": {
      "text/plain": [
       "array([599, 644, 342, 191, 448, 398, 569, 619, 542, 543])"
      ]
     },
     "execution_count": 86,
     "metadata": {},
     "output_type": "execute_result"
    }
   ],
   "source": [
    "# True Positives (along the diagonal)\n",
    "np.diag(conf_matrix)"
   ]
  },
  {
   "cell_type": "code",
   "execution_count": 88,
   "metadata": {},
   "outputs": [
    {
     "name": "stdout",
     "output_type": "stream",
     "text": [
      "[0.599 0.644 0.342 0.191 0.448 0.398 0.569 0.619 0.542 0.543]\n",
      "[0.50805768 0.63137255 0.35005118 0.34981685 0.40542986 0.40862423\n",
      " 0.49136442 0.48625295 0.64370546 0.58639309]\n"
     ]
    }
   ],
   "source": [
    "recall = np.diag(conf_matrix)/np.sum(conf_matrix,axis=1)\n",
    "print(recall)\n",
    "\n",
    "precision = np.diag(conf_matrix)/np.sum(conf_matrix,axis=0)\n",
    "print(precision)\n"
   ]
  },
  {
   "cell_type": "code",
   "execution_count": 91,
   "metadata": {},
   "outputs": [
    {
     "name": "stdout",
     "output_type": "stream",
     "text": [
      "Model 2 recall score: 48.95%\n"
     ]
    }
   ],
   "source": [
    "avg_recall = np.mean(recall)\n",
    "print(f'Model 2 recall score: {avg_recall:.2%}')"
   ]
  },
  {
   "cell_type": "code",
   "execution_count": 93,
   "metadata": {},
   "outputs": [
    {
     "name": "stdout",
     "output_type": "stream",
     "text": [
      "Model 2 precision score: 48.61%\n"
     ]
    }
   ],
   "source": [
    "avg_precision = np.mean(precision)\n",
    "print(f'Model 2 precision score: {avg_precision:.2%}')"
   ]
  },
  {
   "cell_type": "code",
   "execution_count": 95,
   "metadata": {},
   "outputs": [
    {
     "name": "stdout",
     "output_type": "stream",
     "text": [
      "Model 2 f-score :48.78%\n"
     ]
    }
   ],
   "source": [
    "f1_score = (2*avg_precision*avg_recall)/(avg_recall+avg_precision)\n",
    "print(f'Model 2 f-score :{f1_score:.2%}')"
   ]
  },
  {
   "cell_type": "code",
   "execution_count": null,
   "metadata": {},
   "outputs": [],
   "source": []
  }
 ],
 "metadata": {
  "kernelspec": {
   "display_name": "Python 3",
   "language": "python",
   "name": "python3"
  },
  "language_info": {
   "codemirror_mode": {
    "name": "ipython",
    "version": 3
   },
   "file_extension": ".py",
   "mimetype": "text/x-python",
   "name": "python",
   "nbconvert_exporter": "python",
   "pygments_lexer": "ipython3",
   "version": "3.7.3"
  }
 },
 "nbformat": 4,
 "nbformat_minor": 2
}
